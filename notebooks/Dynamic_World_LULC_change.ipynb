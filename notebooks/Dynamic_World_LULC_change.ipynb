{
 "cells": [
  {
   "cell_type": "markdown",
   "metadata": {},
   "source": [
    "## Setup"
   ]
  },
  {
   "cell_type": "markdown",
   "metadata": {},
   "source": [
    "###### - 💡  **TIP:** The _\"Setup\"_ should always be executed."
   ]
  },
  {
   "cell_type": "markdown",
   "metadata": {},
   "source": [
    "### Import packages, utils and authenticate GEE"
   ]
  },
  {
   "cell_type": "code",
   "execution_count": null,
   "metadata": {},
   "outputs": [],
   "source": [
    "import sys\n",
    "from pathlib import Path\n",
    "\n",
    "# Importing the utils module\n",
    "repo_root = Path().resolve().parent \n",
    "scripts_dir = str(repo_root / \"scripts\")\n",
    "sys.path.append(scripts_dir)\n",
    "\n",
    "from setup import *"
   ]
  },
  {
   "cell_type": "markdown",
   "metadata": {},
   "source": [
    "### Set the parameters"
   ]
  },
  {
   "cell_type": "code",
   "execution_count": null,
   "metadata": {},
   "outputs": [],
   "source": [
    "# Initialize static parameters\n",
    "dw_vis, class_labels, base_path, potential_sub_areas, palette = utils.initialize_static_parameters()\n",
    "\n",
    "# Set up dropdown widgets and get the selection dictionary\n",
    "park_dropdown, year_start_dropdown, year_end_dropdown, selection = utils.setup_dropdown_widgets(base_path, potential_sub_areas)\n",
    "\n",
    "# Display widgets\n",
    "display(park_dropdown, year_start_dropdown, year_end_dropdown)"
   ]
  },
  {
   "cell_type": "markdown",
   "metadata": {},
   "source": [
    "## 1. Data collection"
   ]
  },
  {
   "cell_type": "markdown",
   "metadata": {},
   "source": [
    "###### - 💡  **TIP:** The execution of _\"1. Data collection\"_ is only requited if other timeframes (=! 2016-2023) or AoIs are required, otherwise one can skip to 2. & 3. directly."
   ]
  },
  {
   "cell_type": "markdown",
   "metadata": {},
   "source": [
    "### 1.1. Fetching the LULC data in GEE (server-side) according to above set parameters"
   ]
  },
  {
   "cell_type": "code",
   "execution_count": null,
   "metadata": {},
   "outputs": [],
   "source": [
    "# Loading the DW LULC data for the selected area and years server-side\n",
    "results_per_area_and_year = utils.load_dw_results(selection, base_path, selection[\"Sub Areas\"])"
   ]
  },
  {
   "cell_type": "markdown",
   "metadata": {},
   "source": [
    "### 1.2. Creating the \"Fisnet\" (to avoid API overload)"
   ]
  },
  {
   "cell_type": "markdown",
   "metadata": {},
   "source": [
    "###### - ⚠️ **NOTE:** This takes a bit longer to calculate but helps not to overlaod the API, so please be patient.\n",
    "###### - 💡  **TIP:** If you experience errors in Step 1.3 try different h_- & v_intervals."
   ]
  },
  {
   "cell_type": "code",
   "execution_count": null,
   "metadata": {},
   "outputs": [],
   "source": [
    "# Load dissolved parks dataset\n",
    "parks = utils.load_parks_and_buffers(base_path)\n",
    "\n",
    "# Generate fishnet grid for study area\n",
    "fishnet = utils.generate_fishnet(parks, base_path, selection, h_interval=1.0, v_interval=1.0)\n",
    "\n",
    "# Pre-process window geometries and sub-area polygon intersections\n",
    "window_geometries_per_sub_area = utils.process_window_geometries(selection, base_path, selection[\"Sub Areas\"], fishnet)"
   ]
  },
  {
   "cell_type": "markdown",
   "metadata": {},
   "source": [
    "### 1.3. Calculate the LULC and LULC change in AoI"
   ]
  },
  {
   "cell_type": "markdown",
   "metadata": {},
   "source": [
    "###### - ⚠️ NOTE: This is the most time-consuming part of the script (depending on the size of the park) BUT once all the data is fetched from server side the plotting can begin and is quick.\n",
    "###### - 💡  **TIP:** the csv's are saved to ...\\LULC_change_buffer_zones\\data\\DW_datasets."
   ]
  },
  {
   "cell_type": "markdown",
   "metadata": {},
   "source": [
    "#### 1.3.1. Calculate the number of pixels per LULC class"
   ]
  },
  {
   "cell_type": "code",
   "execution_count": null,
   "metadata": {},
   "outputs": [],
   "source": [
    "# Step 1: Export LULC classification data for the selected area and years to the local machine \n",
    "utils.save_lulc_data(selection, base_path, window_geometries_per_sub_area, results_per_area_and_year, class_labels)"
   ]
  },
  {
   "cell_type": "markdown",
   "metadata": {},
   "source": [
    "#### 1.3.2. Calculate the number of LULC **change** pixels"
   ]
  },
  {
   "cell_type": "code",
   "execution_count": null,
   "metadata": {},
   "outputs": [],
   "source": [
    "# Step 2: Compute LULC changes between years (server-side computation therefore very fast)\n",
    "results_per_area_and_year_pairs = utils.compute_lulc_changes(selection, base_path, results_per_area_and_year)\n",
    "\n",
    "# Step 3: Export LULC change data as caculated in Step 2 to the local machine \n",
    "utils.process_lulc_transitions(selection, base_path, window_geometries_per_sub_area, results_per_area_and_year_pairs, class_labels)"
   ]
  },
  {
   "cell_type": "markdown",
   "metadata": {},
   "source": [
    "## 2. Data visualisation"
   ]
  },
  {
   "cell_type": "markdown",
   "metadata": {},
   "source": [
    "### 2.1 Visualise the LULC on a map"
   ]
  },
  {
   "cell_type": "markdown",
   "metadata": {},
   "source": [
    "#### 2.1.1. Load the data and the map"
   ]
  },
  {
   "cell_type": "code",
   "execution_count": null,
   "metadata": {
    "tags": []
   },
   "outputs": [],
   "source": [
    "# Loading the DW LULC data for the selected area and years server-side\n",
    "results_per_area_and_year = utils.load_dw_results(selection, base_path, selection[\"Sub Areas\"])\n",
    "\n",
    "# Initialize and display the interactive map\n",
    "Map = geemap.Map(center=[-30.5595, 22.9375], zoom=5.5, basemap='Esri.WorldImagery')\n",
    "Map"
   ]
  },
  {
   "cell_type": "markdown",
   "metadata": {},
   "source": [
    "#### 2.1.2. Add the data to the above map"
   ]
  },
  {
   "cell_type": "markdown",
   "metadata": {},
   "source": [
    "###### - 💡  **TIP:** Both the _sub area-_ (Parks, PNA, CPA, VPA and Dissolved) and _years_-parameters (2016 - year before current year) can be set to any of the available options."
   ]
  },
  {
   "cell_type": "code",
   "execution_count": null,
   "metadata": {},
   "outputs": [],
   "source": [
    "# Displaying the data on the map\n",
    "utils.plot_lulc(Map, selection, results_per_area_and_year, dw_vis, sub_area=\"CPA\", years=[2018, 2020])"
   ]
  },
  {
   "cell_type": "markdown",
   "metadata": {},
   "source": [
    "### 2.2. Line and pie graphs to characterize the LULC in the buffer zones"
   ]
  },
  {
   "cell_type": "code",
   "execution_count": null,
   "metadata": {},
   "outputs": [],
   "source": [
    "# Plot the LULC comparison graphs\n",
    "utils.plot_lulc_comparison(selection, class_labels, palette)"
   ]
  },
  {
   "cell_type": "markdown",
   "metadata": {},
   "source": [
    "### 2.2. Bar graphs of the normalized yearly difference"
   ]
  },
  {
   "cell_type": "code",
   "execution_count": null,
   "metadata": {},
   "outputs": [],
   "source": [
    "# Compute and plot normalized differences\n",
    "utils.plot_normalized_differences(selection, class_labels, palette)"
   ]
  },
  {
   "cell_type": "markdown",
   "metadata": {},
   "source": [
    "### 2.2. Sankey diagrams for LULC change"
   ]
  },
  {
   "cell_type": "code",
   "execution_count": null,
   "metadata": {},
   "outputs": [],
   "source": [
    "# Step 1: Load the dissolved LULC change data\n",
    "dissolved_change_df = utils.load_dissolved_change_data(selection)\n",
    "\n",
    "# Sep 2: Process the data for the Sankey diagram\n",
    "sources, targets, values, node_labels, node_colors = utils.process_sankey_data(dissolved_change_df, selection, class_labels, palette)\n",
    "\n",
    "# Step 3: Plot the Sankey diagram\n",
    "utils.plot_sankey_diagram(sources, targets, values, node_labels, node_colors, selection)"
   ]
  },
  {
   "cell_type": "markdown",
   "metadata": {},
   "source": [
    "## 3. LULC change intensity analysis"
   ]
  },
  {
   "cell_type": "markdown",
   "metadata": {},
   "source": [
    "###### 📖 **Adopted method from:** Aldwaik, S.Z. & Pontius, R.G., Jr. 2012. Intensity analysis to unify measurements of size and stationarity of land changes by interval, category, and transition. Landscape and urban planning, 106(1), pp.103-114. https://doi.org/10.1016/j.landurbplan.2012.02.010 "
   ]
  },
  {
   "cell_type": "markdown",
   "metadata": {},
   "source": [
    "###### - 💡  **TIP:** These plots are not automatically saved and should be saved manually if needed for further reports."
   ]
  },
  {
   "cell_type": "markdown",
   "metadata": {},
   "source": [
    "### 3.1. Choose sub-area for further investigation"
   ]
  },
  {
   "cell_type": "code",
   "execution_count": null,
   "metadata": {},
   "outputs": [],
   "source": [
    "# Now sub_areas is available globally for the dropdown\n",
    "sub_area_dropdown = utils.setup_sub_area_dropdown(selection[\"Sub Areas\"])\n",
    "display(sub_area_dropdown)"
   ]
  },
  {
   "cell_type": "markdown",
   "metadata": {},
   "source": [
    "### 3.2. Prepare data in \"cross-tabulation matrix\" format"
   ]
  },
  {
   "cell_type": "code",
   "execution_count": null,
   "metadata": {},
   "outputs": [],
   "source": [
    "# Creates a dataframe with the transition matrices for the selected sub-area\n",
    "df = utils.load_sub_area_data(selection, sub_area_dropdown.value)\n",
    "transition_matrices = utils.compute_transition_matrices(df)"
   ]
  },
  {
   "cell_type": "markdown",
   "metadata": {},
   "source": [
    "### 3.3. Calcualte the _\"Time Intensity\"_ of LULC change"
   ]
  },
  {
   "cell_type": "markdown",
   "metadata": {},
   "source": [
    "#### 3.3.1. _\"Time Intensity\"_ calculation (St & U)"
   ]
  },
  {
   "cell_type": "code",
   "execution_count": null,
   "metadata": {},
   "outputs": [],
   "source": [
    "# Step 1: Using the cross-tabulation matrix, compute the time instensity analysis\n",
    "time_intervals, annual_rates_of_change, uniform_intensity, significant_intervals = utils.compute_time_intensity(transition_matrices)\n",
    "\n",
    "# Step 2: Plot the results of the time intensity analysis\n",
    "utils.plot_time_intensity_analysis(time_intervals, annual_rates_of_change, uniform_intensity, selection, sub_area_dropdown.value)"
   ]
  },
  {
   "cell_type": "markdown",
   "metadata": {},
   "source": [
    "### 3.4. Calcualte the _\"Category Intensity\"_ of LULC change"
   ]
  },
  {
   "cell_type": "markdown",
   "metadata": {},
   "source": [
    "#### 3.4.1. _\"Category Intensity\"_ calculation (Gtj & Lti)"
   ]
  },
  {
   "cell_type": "markdown",
   "metadata": {},
   "source": [
    "###### - ⚠️ **NOTE:** The code was developed to only analyse those years with St > U as identified above (i.e., _\"Fast\"_ transitions)."
   ]
  },
  {
   "cell_type": "code",
   "execution_count": null,
   "metadata": {},
   "outputs": [],
   "source": [
    "# Step 1: Compute category intensities for significant time intervals\n",
    "category_intensities = utils.calculate_category_intensities(significant_intervals, transition_matrices)\n",
    "\n",
    "# Step 2: Plot the category intensity analysis for each significant interval\n",
    "utils.plot_category_intensity_analysis(significant_intervals, category_intensities, time_intervals, annual_rates_of_change, selection, sub_area_dropdown.value)"
   ]
  },
  {
   "cell_type": "markdown",
   "metadata": {},
   "source": [
    "### 3.5. Calcualte the _\"Transition Intensity\"_ of LULC change (**Qtmj, Vtm, Rtin and Wtn**)"
   ]
  },
  {
   "cell_type": "markdown",
   "metadata": {},
   "source": [
    "#### 3.5.1. _\"Transition Intensity\"_ calculation for **Qtmj & Vtm** -> Loss, transition **from target category** to all other categories."
   ]
  },
  {
   "cell_type": "code",
   "execution_count": null,
   "metadata": {},
   "outputs": [],
   "source": [
    "# Compute category transition intensities\n",
    "category_transitions = utils.calculate_category_transition_intensities(significant_intervals, transition_matrices, duration_of_interval=1)\n",
    "\n",
    "# Plot transition intensity heatmaps\n",
    "utils.plot_transition_heatmap(significant_intervals, category_transitions, selection, sub_area_dropdown.value)"
   ]
  },
  {
   "cell_type": "markdown",
   "metadata": {},
   "source": [
    "#### 3.5.3. _\"Transition Intensity\"_ calculation for **Rtin & Wtn** -> Gain, transition **to target category** from all other categories."
   ]
  },
  {
   "cell_type": "code",
   "execution_count": null,
   "metadata": {},
   "outputs": [],
   "source": [
    "# Compute category transition intensities\n",
    "category_transitions_v2 = utils.calculate_category_transition_intensities_v2(significant_intervals, transition_matrices, duration_of_interval=1)\n",
    "\n",
    "# Plot transition intensity heatmaps\n",
    "utils.plot_transition_heatmap_v2(significant_intervals, category_transitions_v2, selection, sub_area_dropdown.value)"
   ]
  },
  {
   "cell_type": "markdown",
   "metadata": {},
   "source": [
    "# 4. Visualise the LULC change hotspots between two years"
   ]
  },
  {
   "cell_type": "markdown",
   "metadata": {},
   "source": [
    "### 4.1. Choose year interval to visualise"
   ]
  },
  {
   "cell_type": "code",
   "execution_count": null,
   "metadata": {},
   "outputs": [],
   "source": [
    "# Setup the dropdown for selecting the time interval\n",
    "pre_post_year_dropdown = utils.setup_pre_post_year_dropdown(significant_intervals)\n",
    "pre_post_year_dropdown.observe(utils.on_pre_post_year_change, names='value')\n",
    "display(pre_post_year_dropdown)\n",
    "\n",
    "# Generate the selection widget and transition label map\n",
    "lulcc_select_widget, transition_label_map = utils.setup_lulcc_change_selection(selection, sub_area_dropdown.value)\n",
    "# Explicitly display the widget\n",
    "display(lulcc_select_widget)"
   ]
  },
  {
   "cell_type": "markdown",
   "metadata": {},
   "source": [
    "### 4.2. Dispaly the spatial extent of these LULC changes on the map"
   ]
  },
  {
   "cell_type": "code",
   "execution_count": null,
   "metadata": {},
   "outputs": [],
   "source": [
    "# Loading the DW LULC data for the selected area and years server-side\n",
    "results_per_area_and_year = utils.load_dw_results(selection, base_path, selection[\"Sub Areas\"])\n",
    "\n",
    "# Compute LULC changes between years (server-side computation therefore very fast)\n",
    "results_per_area_and_year_pairs = utils.compute_lulc_changes(selection, base_path, results_per_area_and_year)\n",
    "\n",
    "# Generate and display the filtered LULCC map using the selections\n",
    "utils.generate_filtered_lulcc_map(results_per_area_and_year_pairs, sub_area_dropdown, pre_post_year_dropdown, lulcc_select_widget, transition_label_map)"
   ]
  },
  {
   "cell_type": "code",
   "execution_count": null,
   "metadata": {},
   "outputs": [],
   "source": [
    "#--------------------------------------------------END OF CODE----------------------------------------------------#"
   ]
  }
 ],
 "metadata": {
  "kernelspec": {
   "display_name": "gee",
   "language": "python",
   "name": "python3"
  },
  "language_info": {
   "codemirror_mode": {
    "name": "ipython",
    "version": 3
   },
   "file_extension": ".py",
   "mimetype": "text/x-python",
   "name": "python",
   "nbconvert_exporter": "python",
   "pygments_lexer": "ipython3",
   "version": "3.10.13"
  }
 },
 "nbformat": 4,
 "nbformat_minor": 4
}
